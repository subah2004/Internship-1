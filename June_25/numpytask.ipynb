{
  "nbformat": 4,
  "nbformat_minor": 0,
  "metadata": {
    "colab": {
      "provenance": [],
      "toc_visible": true
    },
    "kernelspec": {
      "name": "python3",
      "display_name": "Python 3"
    },
    "language_info": {
      "name": "python"
    }
  },
  "cells": [
    {
      "cell_type": "markdown",
      "source": [
        "# Numpy\n",
        "\n",
        "## Hands On Excercises"
      ],
      "metadata": {
        "id": "L0AGLyv3sBmw"
      }
    },
    {
      "cell_type": "markdown",
      "source": [
        "### Array Operations and Broadcasting"
      ],
      "metadata": {
        "id": "27KKOefVu0HH"
      }
    },
    {
      "cell_type": "markdown",
      "source": [
        "Q1. Given a 3D array a with shape (2, 3, 4) and a 2D array b with shape (3, 4), perform element-wise multiplication between a and b using broadcasting.\n"
      ],
      "metadata": {
        "id": "gwA58usnsIxA"
      }
    },
    {
      "cell_type": "code",
      "source": [
        "import numpy as np\n",
        "\n",
        "# 3D array\n",
        "a = np.random.rand(2,3,4)\n",
        "\n",
        "# 2 D array\n",
        "b=np.random.rand(3,4)\n",
        "\n",
        "result = a * b\n",
        "\n",
        "print(\"Array a: \", a)\n",
        "print(\"Array b: \", b)\n",
        "print(\"Product of a * b : \", result)"
      ],
      "metadata": {
        "colab": {
          "base_uri": "https://localhost:8080/"
        },
        "id": "JgKS4Ho9sOEG",
        "outputId": "3997c8ce-71ff-4fda-f6a5-ac827178e921"
      },
      "execution_count": 1,
      "outputs": [
        {
          "output_type": "stream",
          "name": "stdout",
          "text": [
            "Array a:  [[[0.68362008 0.77293103 0.52962335 0.82021777]\n",
            "  [0.94455558 0.30615172 0.02217327 0.59891721]\n",
            "  [0.88275056 0.52926198 0.88559906 0.20832882]]\n",
            "\n",
            " [[0.31268256 0.01100557 0.850071   0.78326612]\n",
            "  [0.73718603 0.45910622 0.24036367 0.63034074]\n",
            "  [0.72397559 0.99223395 0.41609789 0.54532252]]]\n",
            "Array b:  [[0.59546758 0.11523849 0.27196634 0.09170038]\n",
            " [0.36172132 0.04116535 0.04465012 0.42454615]\n",
            " [0.48924635 0.05567376 0.11303764 0.43595234]]\n",
            "Product of a * b :  [[[0.4070736  0.0890714  0.14403972 0.07521428]\n",
            "  [0.34166589 0.01260284 0.00099004 0.254268  ]\n",
            "  [0.43188249 0.029466   0.10010603 0.09082144]]\n",
            "\n",
            " [[0.18619233 0.00126827 0.2311907  0.0718258 ]\n",
            "  [0.26665591 0.01889927 0.01073227 0.26760873]\n",
            "  [0.35420241 0.05524139 0.04703472 0.23773463]]]\n"
          ]
        }
      ]
    },
    {
      "cell_type": "markdown",
      "source": [
        "Q2. Implement a function that takes two 2D arrays c and d with different shapes and performs element-wise operations (addition, subtraction, multiplication, and division) between them using broadcasting. Handle the case where broadcasting is not possible.\n"
      ],
      "metadata": {
        "id": "MBFkwJ-Gs1jM"
      }
    },
    {
      "cell_type": "code",
      "source": [
        "def calculator(p,q):\n",
        "  try:\n",
        "    addition = p + q\n",
        "    subtraction = p - q\n",
        "    multiplication = c * d\n",
        "    division = np.divide(p,q,out=np.zeros_like(p, dtype = float), where = q!=0)\n",
        "\n",
        "    return {\n",
        "        'Addition': addition,\n",
        "        'Subtraction' : subtraction,\n",
        "        \"Multiplication\" : multiplication,\n",
        "        'division': division\n",
        "    }\n",
        "\n",
        "  except ValueError as e:\n",
        "    return str(e)\n",
        "  p = np.array([[1,2],[3,4],[5,6]])\n",
        "  q = np.array([[1,2]])\n",
        "  result = calculator(p,q)\n",
        "  print(\"Addition: \", result['Addition'])\n",
        "  print(\"Subtraction: \", result['Subtraction'])\n",
        "  print(\"Multiplication: \", result['Multiplication'])\n",
        "  print(\"Division: \", result['division'])\n",
        "\n",
        "\n",
        "\n"
      ],
      "metadata": {
        "id": "5mTuKHLItAcT"
      },
      "execution_count": 2,
      "outputs": []
    },
    {
      "cell_type": "markdown",
      "source": [
        "Q3. Create a 2D array e with shape (5, 3) and a 1D array f with length 5. Compute the outer product of e and f using broadcasting."
      ],
      "metadata": {
        "id": "33YbT9wsukmU"
      }
    },
    {
      "cell_type": "code",
      "source": [
        "a1 = np.random.rand(5,3)\n",
        "b1 = np.random.rand(5)\n",
        "\n",
        "result1 = a1 * b1[:,np.newaxis]\n",
        "print(result1)"
      ],
      "metadata": {
        "colab": {
          "base_uri": "https://localhost:8080/"
        },
        "id": "5QB4FFEjujTH",
        "outputId": "b3fd95b5-a24d-41c7-c866-25bd344771f4"
      },
      "execution_count": 3,
      "outputs": [
        {
          "output_type": "stream",
          "name": "stdout",
          "text": [
            "[[0.6627403  0.44498422 0.5161768 ]\n",
            " [0.2443075  0.16955562 0.08932958]\n",
            " [0.37739633 0.76197192 0.51487856]\n",
            " [0.12094835 0.26016751 0.47797175]\n",
            " [0.56320216 0.05357015 0.6458817 ]]\n"
          ]
        }
      ]
    },
    {
      "cell_type": "markdown",
      "source": [
        "### Indexing and Slicing"
      ],
      "metadata": {
        "id": "QBEPJXRGvYTp"
      }
    },
    {
      "cell_type": "markdown",
      "source": [
        "Given a 3D array g with shape (4, 3, 2), extract every other element along the first and second dimensions, but keep all elements along the third dimension."
      ],
      "metadata": {
        "id": "2UYJ8tb8v50C"
      }
    },
    {
      "cell_type": "code",
      "source": [
        "a = np.random.rand(4,3,2)\n",
        "result = a[::2, ::2, : ]\n",
        "print(result)"
      ],
      "metadata": {
        "colab": {
          "base_uri": "https://localhost:8080/"
        },
        "id": "EVrRZkk_vcwd",
        "outputId": "6bbc9cd9-2fb9-44b4-fa21-0a4fd87825e6"
      },
      "execution_count": 5,
      "outputs": [
        {
          "output_type": "stream",
          "name": "stdout",
          "text": [
            "[[[0.71250471 0.5672311 ]\n",
            "  [0.86913924 0.07838704]]\n",
            "\n",
            " [[0.95335115 0.41900877]\n",
            "  [0.34204025 0.7601897 ]]]\n"
          ]
        }
      ]
    },
    {
      "cell_type": "markdown",
      "source": [
        "Create a function that takes a 2D array h and an array of row indices i and column indices j. The function should return a new array k where k[m, n] is the sum of the elements in h along the diagonal specified by i[m] and j[n]."
      ],
      "metadata": {
        "id": "EGWBACo2wYUc"
      }
    },
    {
      "cell_type": "code",
      "source": [
        "def func(h,i,j):\n",
        "  k = np.zeros((len(i),len(j)))\n",
        "  for m, row in enumerate(i):\n",
        "    for n, col in enumerate(j):\n",
        "        diagonal_sum = 0\n",
        "        x,y = row, col\n",
        "        while x < h.shape[0] and y < h.shape[1]:\n",
        "          diagonal_sum +=h[x,y]\n",
        "          x+=1\n",
        "          y+=1\n",
        "\n",
        "          k[m,n] = diagonal_sum\n",
        "  return k\n",
        "\n",
        "  h = np.random.rand([4,4])\n",
        "  i = [0,1]\n",
        "  j = [1,2]\n",
        "  k = func(h,i,j)\n",
        "  print(\"Result: \",k)"
      ],
      "metadata": {
        "id": "QZwmii8ewbBG"
      },
      "execution_count": 12,
      "outputs": []
    },
    {
      "cell_type": "markdown",
      "source": [
        "Implement a function that takes a 2D array l and returns a new array m where each element in m is the product of the corresponding row and column means in l."
      ],
      "metadata": {
        "id": "_bZzuWVXwwvm"
      }
    },
    {
      "cell_type": "code",
      "source": [
        "def func2(l):\n",
        "  row = l.mean(axis=1)\n",
        "  col = l.mean(axis=0)\n",
        "  m = np.outer(row,col)\n",
        "  return m\n",
        "l  = np.random.rand(3,3)\n",
        "res = func2(l)\n",
        "print(res)\n"
      ],
      "metadata": {
        "colab": {
          "base_uri": "https://localhost:8080/"
        },
        "id": "3oblFFa2w1VP",
        "outputId": "9bc20169-fd97-4ea7-e766-a3d415409395"
      },
      "execution_count": 16,
      "outputs": [
        {
          "output_type": "stream",
          "name": "stdout",
          "text": [
            "[[0.28243758 0.12024001 0.33245772]\n",
            " [0.2216916  0.09437908 0.26095353]\n",
            " [0.19915523 0.08478484 0.23442593]]\n"
          ]
        }
      ]
    },
    {
      "cell_type": "markdown",
      "source": [
        "### Array Manipulation"
      ],
      "metadata": {
        "id": "T6AGgynKzY6T"
      }
    },
    {
      "cell_type": "markdown",
      "source": [
        "Given a 2D array n with shape (4, 6), reshape it into a 3D array with shape (2, 2, 6) and then flatten it back to a 2D array with shape (4, 6)."
      ],
      "metadata": {
        "id": "4fkqovaEzdBW"
      }
    },
    {
      "cell_type": "code",
      "source": [
        "n1 = np.arange(24).reshape(4,6)\n",
        "n2 = n1.reshape(2,2,6)\n",
        "n3 = n2.reshape(4,6)\n",
        "print(\"Original 2D array : \",n1)\n",
        "print(\"Reshaped to 3D array : \",n2)\n",
        "print(\"Flattened back to 2D array : \",n3)\n"
      ],
      "metadata": {
        "colab": {
          "base_uri": "https://localhost:8080/"
        },
        "id": "U1s9Ehy_zclv",
        "outputId": "0057e56b-4bca-499a-8b67-3a463273f1bd"
      },
      "execution_count": 17,
      "outputs": [
        {
          "output_type": "stream",
          "name": "stdout",
          "text": [
            "Original 2D array :  [[ 0  1  2  3  4  5]\n",
            " [ 6  7  8  9 10 11]\n",
            " [12 13 14 15 16 17]\n",
            " [18 19 20 21 22 23]]\n",
            "Reshaped to 3D array :  [[[ 0  1  2  3  4  5]\n",
            "  [ 6  7  8  9 10 11]]\n",
            "\n",
            " [[12 13 14 15 16 17]\n",
            "  [18 19 20 21 22 23]]]\n",
            "Flattened back to 2D array :  [[ 0  1  2  3  4  5]\n",
            " [ 6  7  8  9 10 11]\n",
            " [12 13 14 15 16 17]\n",
            " [18 19 20 21 22 23]]\n"
          ]
        }
      ]
    },
    {
      "cell_type": "markdown",
      "source": [
        "Implement a function that takes a 2D array o and rolls it along the first axis by a specified number of positions. For example, if the input array is [[1, 2, 3], [4, 5, 6]] and the number of positions is 1, the output should be [[4, 5, 6], [1, 2, 3]]."
      ],
      "metadata": {
        "id": "tHbjOYI00OhQ"
      }
    },
    {
      "cell_type": "code",
      "source": [
        "def func3(o, positions):\n",
        "  array = np.roll(o,shift = positions, axis = 0)\n",
        "  return array\n",
        "o = np.array([[1,2,3],[4,5,6],[7,8,9],[10,11,12]])\n",
        "positions = 2\n",
        "\n",
        "final = func3(o,positions)\n",
        "print(\"Array: \", final)"
      ],
      "metadata": {
        "colab": {
          "base_uri": "https://localhost:8080/"
        },
        "id": "SEpQyAf5zbtj",
        "outputId": "8391ce7c-6441-494a-9032-bc02a4ae2d0e"
      },
      "execution_count": 18,
      "outputs": [
        {
          "output_type": "stream",
          "name": "stdout",
          "text": [
            "Array:  [[ 7  8  9]\n",
            " [10 11 12]\n",
            " [ 1  2  3]\n",
            " [ 4  5  6]]\n"
          ]
        }
      ]
    },
    {
      "cell_type": "markdown",
      "source": [
        "Create a function that takes a 2D array p and replaces all occurrences of a specified value x with the mean of the neighboring elements (horizontally and vertically) in the array."
      ],
      "metadata": {
        "id": "KbSwVDmR1GM_"
      }
    },
    {
      "cell_type": "code",
      "source": [
        "\n",
        "def func4(p,x):\n",
        "  p_copy = p.copy()\n",
        "  rows, cols = p.shape\n",
        "\n",
        "  for i in range(rows):\n",
        "    for j in range(cols):\n",
        "      if p[i,j]== x :\n",
        "        neighbors = []\n",
        "        # left neighbor\n",
        "        if j > 0:\n",
        "          neighbors.append(p[i,j-1])\n",
        "        # right neighbor\n",
        "        if j < cols -1:\n",
        "          neighbors.append(p[i,j+1])\n",
        "        # top neighbor\n",
        "        if i > 0:\n",
        "          neighbors.append(p[i-1,j])\n",
        "        # bottom neighbor\n",
        "        if i < rows -1:\n",
        "          neighbors.append(p[i+1,j])\n",
        "        if neighbors:\n",
        "          mean = np.mean(neighbors)\n",
        "          p_copy[i,j] = mean\n",
        "\n",
        "  return p_copy\n",
        "p = np.array([[1,2,3],[4,-1,6],[7,8,-1]])\n",
        "x=-1\n",
        "result = func4(p,x)\n",
        "print(\"Modified array:\",result)\n"
      ],
      "metadata": {
        "colab": {
          "base_uri": "https://localhost:8080/"
        },
        "id": "sXaweAG21JAF",
        "outputId": "27213cf1-2014-4f25-8a97-ddaeae56fa74"
      },
      "execution_count": 19,
      "outputs": [
        {
          "output_type": "stream",
          "name": "stdout",
          "text": [
            "Modified array: [[1 2 3]\n",
            " [4 5 6]\n",
            " [7 8 7]]\n"
          ]
        }
      ]
    }
  ]
}