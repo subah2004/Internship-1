{
 "cells": [
  {
   "cell_type": "markdown",
   "metadata": {},
   "source": [
    "# List Method and Functions 1"
   ]
  },
  {
   "cell_type": "code",
   "execution_count": 2,
   "metadata": {},
   "outputs": [
    {
     "name": "stdout",
     "output_type": "stream",
     "text": [
      "After appending kiwi:  ['apple', 'banana', 'cherry', 'date', 'elderberry', 'kiwi']\n",
      "After inserting grape at index 1:  ['apple', 'grape', 'banana', 'cherry', 'date', 'elderberry', 'kiwi']\n",
      "After removing cherry:  ['apple', 'grape', 'banana', 'date', 'elderberry', 'kiwi']\n",
      "first element:  apple last element:  kiwi\n"
     ]
    }
   ],
   "source": [
    "fruits = [\"apple\", \"banana\", \"cherry\", \"date\", \"elderberry\"]\n",
    "\n",
    "#Insertion\n",
    "fruits.append(\"kiwi\")\n",
    "print(\"After appending kiwi: \",fruits)\n",
    "\n",
    "#Deletion\n",
    "fruits.insert(1, \"grape\")\n",
    "print(\"After inserting grape at index 1: \", fruits)\n",
    "\n",
    "#Deletion\n",
    "fruits.remove(\"cherry\")\n",
    "print(\"After removing cherry: \", fruits)\n",
    "\n",
    "#Print\n",
    "print(\"first element: \",fruits[0],\"last element: \",fruits[-1])\n"
   ]
  },
  {
   "cell_type": "markdown",
   "metadata": {},
   "source": [
    "# List Methods and Functions 2"
   ]
  },
  {
   "cell_type": "code",
   "execution_count": 9,
   "metadata": {},
   "outputs": [
    {
     "name": "stdout",
     "output_type": "stream",
     "text": [
      "Index of Bob:  1\n",
      "Count of David:  2\n",
      "After removing the last element:  ['Alice', 'Bob', 'Charlie', 'David', 'Eva']\n"
     ]
    }
   ],
   "source": [
    "names_list = [\"Alice\", \"Bob\", \"Charlie\", \"David\", \"Eva\",\"David\"]\n",
    "\n",
    "index1 = names_list.index(\"Bob\")\n",
    "print(\"Index of Bob: \",index1)\n",
    "count1 = names_list.count(\"David\")\n",
    "print(\"Count of David: \",count1)\n",
    "\n",
    "names_list.pop()\n",
    "print(\"After removing the last element: \", names_list)\n"
   ]
  },
  {
   "cell_type": "markdown",
   "metadata": {},
   "source": [
    "# List Comprehension"
   ]
  },
  {
   "cell_type": "code",
   "execution_count": 17,
   "metadata": {},
   "outputs": [
    {
     "name": "stdout",
     "output_type": "stream",
     "text": [
      "['ALICE', 'BOB', 'CHARLIE', 'DAVID', 'EVA']\n",
      "['alice', 'bob', 'charlie', 'david', 'eva']\n",
      "[10, 20, 30, 40]\n"
     ]
    }
   ],
   "source": [
    "#Changing all the elements in the list to uppercase\n",
    "uppercase_names_list = [name.upper() for name in names_list]\n",
    "print(uppercase_names_list)\n",
    "\n",
    "#Lowecase\n",
    "lowercase = [i.lower() for i in names_list]\n",
    "print(lowercase)\n",
    "\n",
    "#Multiply the number by 5\n",
    "number = [2,4,6,8]\n",
    "multiply_by_five = [num * 5 for num in number]\n",
    "print(multiply_by_five)"
   ]
  },
  {
   "cell_type": "markdown",
   "metadata": {},
   "source": [
    "# Sets"
   ]
  },
  {
   "cell_type": "markdown",
   "metadata": {},
   "source": [
    "## Operations"
   ]
  },
  {
   "cell_type": "code",
   "execution_count": 18,
   "metadata": {},
   "outputs": [
    {
     "name": "stdout",
     "output_type": "stream",
     "text": [
      "Union: {1, 2, 3, 4, 5, 6, 7, 8, 9, 10}\n",
      "Intersection: {4, 5, 6, 7}\n",
      "Difference:  {1, 2, 3}\n",
      "Symmetric Difference:  {1, 2, 3, 8, 9, 10}\n"
     ]
    }
   ],
   "source": [
    "set1 ={1,2,3,4,5,6,7}\n",
    "set2 ={4,5,6,7,8,9,10}\n",
    "\n",
    "print(\"Union:\",set1|set2)\n",
    "print(\"Intersection:\",set1&set2)\n",
    "print(\"Difference: \",set1-set2)\n",
    "print(\"Symmetric Difference: \",set1^set2)"
   ]
  },
  {
   "cell_type": "markdown",
   "metadata": {},
   "source": [
    "## Methods"
   ]
  },
  {
   "cell_type": "code",
   "execution_count": 24,
   "metadata": {},
   "outputs": [
    {
     "name": "stdout",
     "output_type": "stream",
     "text": [
      "Before:  {25, 20, 5, 15}\n",
      "After:  {5, 15, 20, 25, 30}\n",
      "\n",
      "After removal of 25:  {5, 15, 20, 30}\n",
      "Element removed is  5\n",
      "\n",
      "Before clearing:  {15, 20, 30}\n",
      "After clearing:  set()\n"
     ]
    }
   ],
   "source": [
    "set3 = {5,15,20,25}\n",
    "print(\"Before: \",set3)\n",
    "set3.add(30)\n",
    "print(\"After: \",set3)\n",
    "print()\n",
    "set3.remove(25)\n",
    "print(\"After removal of 25: \",set3)\n",
    "pop_method = set3.pop()\n",
    "print(\"Element removed is \",pop_method)\n",
    "print()\n",
    "print(\"Before clearing: \",set3)\n",
    "set3.clear()\n",
    "print(\"After clearing: \", set3)"
   ]
  },
  {
   "cell_type": "markdown",
   "metadata": {},
   "source": [
    "# Tuples\n",
    "\n",
    "Elements inside the tuples cannot be removed or inserted.\n",
    "Tuples allow duplicate values.\n",
    "Elements inside tuple cannot be changed."
   ]
  },
  {
   "cell_type": "code",
   "execution_count": 29,
   "metadata": {},
   "outputs": [
    {
     "name": "stdout",
     "output_type": "stream",
     "text": [
      "Occurrences of 6 :  2\n",
      "Sorted tuple:  [3, 4, 29, 30, 100]\n",
      "Minimum value in tuple1 is : 2\n",
      "Maximum value in tuple1 is : 9\n",
      "Sum of all value in tuple1 is : 47\n"
     ]
    }
   ],
   "source": [
    "tuple1 = (2,4,5,6,6,7,8,9)\n",
    "ans = tuple1.count(6)\n",
    "print(\"Occurrences of 6 : \",ans)\n",
    "\n",
    "tuple2 = (30,29,4,3,100)\n",
    "sorted_tuple = sorted(tuple2)\n",
    "print(\"Sorted tuple: \", sorted_tuple)\n",
    "print(\"Minimum value in tuple1 is :\", min(tuple1))\n",
    "print(\"Maximum value in tuple1 is :\", max(tuple1))\n",
    "print(\"Sum of all value in tuple1 is :\", sum(tuple1))\n",
    "\n"
   ]
  },
  {
   "cell_type": "markdown",
   "metadata": {},
   "source": [
    "# Dictionary\n"
   ]
  },
  {
   "cell_type": "code",
   "execution_count": 39,
   "metadata": {},
   "outputs": [
    {
     "name": "stdout",
     "output_type": "stream",
     "text": [
      "Keys:\n",
      "name\n",
      "age\n",
      "city\n",
      "\n",
      "Values:\n",
      "Alice\n",
      "20\n",
      "New York\n",
      "{'name': 'Alice', 'age': 20, 'city': 'New York', 'country': 'USA'}\n",
      "Before: popping: {'name': 'Alice', 'age': 20, 'city': 'New York', 'country': 'USA'}\n",
      "After popping:  {'name': 'Alice', 'age': 20, 'country': 'USA'}\n"
     ]
    }
   ],
   "source": [
    "#Printing keys and values in dictonary\n",
    "\n",
    "dict1 = {\"name\": \"Alice\",\"age\":20,\"city\": \"New York\"}\n",
    "print(\"Keys:\")\n",
    "for i in dict1.keys():\n",
    "    print(i)\n",
    "print()\n",
    "print(\"Values:\")\n",
    "for j in dict1.values():\n",
    "    print(j)\n",
    "\n",
    "#appending a new key value pair\n",
    "dict1[\"country\"]=\"USA\"\n",
    "print(dict1)\n",
    "\n",
    "print(\"Before: popping:\",dict1)\n",
    "dict1.pop(\"city\")\n",
    "print(\"After popping: \", dict1)\n"
   ]
  },
  {
   "cell_type": "markdown",
   "metadata": {},
   "source": [
    "## Merging two dictionaries"
   ]
  },
  {
   "cell_type": "code",
   "execution_count": 40,
   "metadata": {},
   "outputs": [
    {
     "name": "stdout",
     "output_type": "stream",
     "text": [
      "{'name': 'Alice', 'age': 20, 'country': 'USA', 'height': 180, 'weight': 70}\n"
     ]
    }
   ],
   "source": [
    "\n",
    "more_info ={\"height\":180,\"weight\":70}\n",
    "dict1.update(more_info)\n",
    "print(dict1)"
   ]
  }
 ],
 "metadata": {
  "kernelspec": {
   "display_name": "Python 3",
   "language": "python",
   "name": "python3"
  },
  "language_info": {
   "codemirror_mode": {
    "name": "ipython",
    "version": 3
   },
   "file_extension": ".py",
   "mimetype": "text/x-python",
   "name": "python",
   "nbconvert_exporter": "python",
   "pygments_lexer": "ipython3",
   "version": "3.11.1"
  }
 },
 "nbformat": 4,
 "nbformat_minor": 2
}
